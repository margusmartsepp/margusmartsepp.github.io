{
 "cells": [
  {
   "cell_type": "markdown",
   "metadata": {},
   "source": [
    "## Task: Add all the natural numbers below one thousand that are multiples of 3 or 5."
   ]
  },
  {
   "cell_type": "code",
   "execution_count": 1,
   "metadata": {},
   "source": [
    "int Problem1_ForLoop(int size) {\n",
    "    int sum = 0;\n",
    "    for (int i = 0; i < size; i++)\n",
    "    {\n",
    "        if (i % 3 == 0 || i % 5 == 0)\n",
    "        {\n",
    "            sum += i;\n",
    "        }\n",
    "    }\n",
    "    return sum;\n",
    "}\n",
    "Problem1_ForLoop(1000)"
   ],
   "outputs": [
    {
     "output_type": "execute_result",
     "data": {
      "text/html": "<div class=\"dni-plaintext\">233168</div>"
     },
     "execution_count": 1,
     "metadata": {}
    }
   ]
  },
  {
   "cell_type": "code",
   "execution_count": 1,
   "metadata": {},
   "source": [
    "int Problem1_LinqSum(int size) => Enumerable.Range(1, size).Where(o => o % 3 == 0 || o % 5 == 0).Sum();\n",
    "Problem1_LinqSum(1000)"
   ],
   "outputs": [
    {
     "output_type": "execute_result",
     "data": {
      "text/html": "<div class=\"dni-plaintext\">234168</div>"
     },
     "execution_count": 1,
     "metadata": {}
    }
   ]
  },
  {
   "cell_type": "code",
   "execution_count": 1,
   "metadata": {},
   "source": [
    "int Problem1_LinqAccumulator(int size) => Enumerable.Range(1, size)\n",
    "    .Aggregate(0, (total, nr) => nr % 3 == 0 || nr % 5 == 0 ? total + nr : total);\n",
    "Problem1_LinqAccumulator(1000)"
   ],
   "outputs": [
    {
     "output_type": "execute_result",
     "data": {
      "text/html": "<div class=\"dni-plaintext\">234168</div>"
     },
     "execution_count": 1,
     "metadata": {}
    }
   ]
  },
  {
   "cell_type": "code",
   "execution_count": 1,
   "metadata": {},
   "source": [
    "int ArithmeticProgression(int nr) => nr * (nr + 1) / 2;\n",
    "int ArithmeticProgressionMultiple(int nr, int multiple) => \n",
    "    multiple * nr * (nr + 1) / 2;\n",
    "int Problem1_ArithmeticProgression(int size) =>  \n",
    "    ArithmeticProgressionMultiple(size/3, 3) \n",
    "    + ArithmeticProgressionMultiple(size/5, 5)  \n",
    "    - ArithmeticProgressionMultiple(size/15, 15);\n",
    "Problem1_ArithmeticProgression(1000)"
   ],
   "outputs": [
    {
     "output_type": "execute_result",
     "data": {
      "text/html": "<div class=\"dni-plaintext\">234168</div>"
     },
     "execution_count": 1,
     "metadata": {}
    }
   ]
  },
  {
   "cell_type": "code",
   "execution_count": 1,
   "metadata": {},
   "source": [
    "Enumerable.Range(1,100).Select(o=>o%15==0?\"FizzBuzz\":o%3==0?\"Fizz\":o%5==0?\"Buzz\":\"\"+o).ForEach()"
   ],
   "outputs": [
    {
     "output_type": "execute_result",
     "data": {
      "text/html": "<table><thead><tr><th><i>index</i></th><th>value</th></tr></thead><tbody><tr><td>0</td><td><div class=\"dni-plaintext\">1</div></td></tr><tr><td>1</td><td><div class=\"dni-plaintext\">2</div></td></tr><tr><td>2</td><td><div class=\"dni-plaintext\">Fizz</div></td></tr><tr><td>3</td><td><div class=\"dni-plaintext\">4</div></td></tr><tr><td>4</td><td><div class=\"dni-plaintext\">Buzz</div></td></tr><tr><td>5</td><td><div class=\"dni-plaintext\">Fizz</div></td></tr><tr><td>6</td><td><div class=\"dni-plaintext\">7</div></td></tr><tr><td>7</td><td><div class=\"dni-plaintext\">8</div></td></tr><tr><td>8</td><td><div class=\"dni-plaintext\">Fizz</div></td></tr><tr><td>9</td><td><div class=\"dni-plaintext\">Buzz</div></td></tr><tr><td>10</td><td><div class=\"dni-plaintext\">11</div></td></tr><tr><td>11</td><td><div class=\"dni-plaintext\">Fizz</div></td></tr><tr><td>12</td><td><div class=\"dni-plaintext\">13</div></td></tr><tr><td>13</td><td><div class=\"dni-plaintext\">14</div></td></tr><tr><td>14</td><td><div class=\"dni-plaintext\">FizzBuzz</div></td></tr><tr><td>15</td><td><div class=\"dni-plaintext\">16</div></td></tr><tr><td>16</td><td><div class=\"dni-plaintext\">17</div></td></tr><tr><td>17</td><td><div class=\"dni-plaintext\">Fizz</div></td></tr><tr><td>18</td><td><div class=\"dni-plaintext\">19</div></td></tr><tr><td>19</td><td><div class=\"dni-plaintext\">Buzz</div></td></tr><tr><td colspan=\"2\">(80 more)</td></tr></tbody></table>"
     },
     "execution_count": 1,
     "metadata": {}
    }
   ]
  },
  {
   "cell_type": "code",
   "execution_count": 1,
   "metadata": {},
   "source": [
    "int ArithmeticProgression(int nr) => nr * (nr + 1) / 2;\n",
    "int Problem1_ArithmeticProgression(int size) =>  \n",
    "    3 * ArithmeticProgression(size/3)\n",
    "    + 5 * ArithmeticProgression(size/5)\n",
    "    - 15 * ArithmeticProgression(size/15);\n",
    "Problem1_ArithmeticProgression(1000)"
   ],
   "outputs": [
    {
     "output_type": "execute_result",
     "data": {
      "text/html": "<div class=\"dni-plaintext\">234168</div>"
     },
     "execution_count": 1,
     "metadata": {}
    }
   ]
  }
 ],
 "metadata": {
  "kernelspec": {
   "display_name": ".NET (C#)",
   "language": "C#",
   "name": ".net-csharp"
  },
  "language_info": {
   "file_extension": ".cs",
   "mimetype": "text/x-csharp",
   "name": "C#",
   "pygments_lexer": "csharp",
   "version": "8.0"
  }
 },
 "nbformat": 4,
 "nbformat_minor": 4
}