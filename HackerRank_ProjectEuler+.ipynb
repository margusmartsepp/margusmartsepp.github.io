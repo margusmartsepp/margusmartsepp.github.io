{
 "cells": [
  {
   "cell_type": "markdown",
   "metadata": {},
   "source": [
    "## Task: Add all the natural numbers below one thousand that are multiples of 3 or 5."
   ]
  },
  {
   "cell_type": "code",
   "execution_count": 1,
   "metadata": {},
   "source": [
    "int Problem1_ForLoop(int size) {\n",
    "    int sum = 0;\n",
    "    for (int i = 0; i < size; i++)\n",
    "    {\n",
    "        if (i % 3 == 0 || i % 5 == 0)\n",
    "        {\n",
    "            sum += i;\n",
    "        }\n",
    "    }\n",
    "    return sum;\n",
    "}\n",
    "Problem1_ForLoop(1000)"
   ],
   "outputs": [
    {
     "output_type": "execute_result",
     "data": {
      "text/html": "<div class=\"dni-plaintext\">233168</div>"
     },
     "execution_count": 1,
     "metadata": {}
    }
   ]
  },
  {
   "cell_type": "code",
   "execution_count": 1,
   "metadata": {},
   "source": [
    "int Problem1_LinqSum(int size) => Enumerable.Range(1, size).Where(o => o % 3 == 0 || o % 5 == 0).Sum();\n",
    "Problem1_LinqSum(1000)"
   ],
   "outputs": [
    {
     "output_type": "execute_result",
     "data": {
      "text/html": "<div class=\"dni-plaintext\">234168</div>"
     },
     "execution_count": 1,
     "metadata": {}
    }
   ]
  },
  {
   "cell_type": "code",
   "execution_count": 1,
   "metadata": {},
   "source": [
    "int Problem1_LinqAccumulator(int size) => Enumerable.Range(1, size)\n",
    "    .Aggregate(0, (total, nr) => nr % 3 == 0 || nr % 5 == 0 ? total + nr : total);\n",
    "Problem1_LinqAccumulator(1000)"
   ],
   "outputs": [
    {
     "output_type": "execute_result",
     "data": {
      "text/html": "<div class=\"dni-plaintext\">234168</div>"
     },
     "execution_count": 1,
     "metadata": {}
    }
   ]
  },
  {
   "cell_type": "code",
   "execution_count": 1,
   "metadata": {},
   "source": [
    "int ArithmeticProgression(int nr) => nr * (nr + 1) / 2;\n",
    "int ArithmeticProgressionMultiple(int nr, int multiple) => \n",
    "    multiple * nr * (nr + 1) / 2;\n",
    "int Problem1_ArithmeticProgression(int size) =>  \n",
    "    ArithmeticProgressionMultiple(size/3, 3) \n",
    "    + ArithmeticProgressionMultiple(size/5, 5)  \n",
    "    - ArithmeticProgressionMultiple(size/15, 15);\n",
    "Problem1_ArithmeticProgression(1000)"
   ],
   "outputs": [
    {
     "output_type": "execute_result",
     "data": {
      "text/html": "<div class=\"dni-plaintext\">234168</div>"
     },
     "execution_count": 1,
     "metadata": {}
    }
   ]
  },
  {
   "cell_type": "code",
   "execution_count": 1,
   "metadata": {},
   "source": [
    "var input = \"kitten\";\n",
    "string AltPairs(string input) => new string(input.Select((o,i)=>(o,i)).Where(x=>x.i%4==0||x.i%4==1).Select(x=>x.o).ToArray());\n",
    "AltPairs(input)"
   ],
   "outputs": [
    {
     "output_type": "execute_result",
     "data": {
      "text/plain": "kien"
     },
     "execution_count": 1,
     "metadata": {}
    }
   ]
  },
  {
   "cell_type": "code",
   "execution_count": 1,
   "metadata": {},
   "source": [
    "public int[] ArrayDiff(int[] a, int[] b)\n",
    "{\n",
    "  var set = b.ToHashSet();\n",
    "  return a.Where(o=>!set.Contains(o)).ToArray();\n",
    "}\n",
    "ArrayDiff(new int[] {1, 2},    new int[] {1})"
   ],
   "outputs": [
    {
     "output_type": "execute_result",
     "data": {
      "text/html": "<table><thead><tr><th><i>index</i></th><th>value</th></tr></thead><tbody><tr><td>0</td><td><div class=\"dni-plaintext\">2</div></td></tr></tbody></table>"
     },
     "execution_count": 1,
     "metadata": {}
    }
   ]
  },
  {
   "cell_type": "markdown",
   "metadata": {},
   "source": [
    "##Find the odd int\n",
    "Given an array of integers, find the one that appears an odd number of times.\n",
    "\n",
    "There will always be only one integer that appears an odd number of times."
   ]
  },
  {
   "cell_type": "code",
   "execution_count": 1,
   "metadata": {},
   "source": [
    "public static int find_it(int[] seq) \n",
    "{\n",
    "    return seq.GroupBy(o => o).Where(o=> o.Count()% 2==1).Select(o=>o.Key).FirstOrDefault();\n",
    "}\n",
    "find_it ( new[] { 20,1,-1,2,-2,3,3,5,5,1,2,4,20,4,-1,-2,5 })"
   ],
   "outputs": [
    {
     "output_type": "execute_result",
     "data": {
      "text/html": "<div class=\"dni-plaintext\">5</div>"
     },
     "execution_count": 1,
     "metadata": {}
    }
   ]
  },
  {
   "cell_type": "markdown",
   "metadata": {},
   "source": [
    "#Exes and Ohs\n",
    "Check to see if a string has the same amount of 'x's and 'o's. The method must return a boolean and be case insensitive. The string can contain any char.\n",
    "\n",
    "Examples input/output:\n",
    "```csharp\n",
    "XO(\"ooxx\") => true\n",
    "XO(\"xooxx\") => false\n",
    "XO(\"ooxXm\") => true\n",
    "XO(\"zpzpzpp\") => true // when no 'x' and 'o' is present should return true\n",
    "XO(\"zzoo\") => false\n",
    "```"
   ]
  },
  {
   "cell_type": "code",
   "execution_count": 1,
   "metadata": {},
   "source": [
    "public static bool XO (string input)\n",
    "{\n",
    "    var group = input.ToLower().ToArray().GroupBy(o => o).ToDictionary(o=>o.Key, o=>o.Count());\n",
    "    return group.ContainsKey('x') && group.ContainsKey('o') ? group['x']==group['o'] : !group.ContainsKey('x') && !group.ContainsKey('o');\n",
    "}\n",
    "XO(\"j\")"
   ],
   "outputs": [
    {
     "output_type": "execute_result",
     "data": {
      "text/html": "<div class=\"dni-plaintext\">True</div>"
     },
     "execution_count": 1,
     "metadata": {}
    }
   ]
  },
  {
   "cell_type": "markdown",
   "metadata": {},
   "source": [
    "# Sum of odd numbers\n",
    "Given the triangle of consecutive odd numbers:\n",
    "```\n",
    "             1\n",
    "          3     5\n",
    "       7     9    11\n",
    "   13    15    17    19\n",
    "21    23    25    27    29\n",
    "...\n",
    "```\n",
    "Calculate the row sums of this triangle from the row index (starting at index 1) e.g.:\n",
    "```\n",
    "rowSumOddNumbers(1); // 1\n",
    "rowSumOddNumbers(2); // 3 + 5 = 8\n",
    "```"
   ]
  },
  {
   "cell_type": "code",
   "execution_count": 1,
   "metadata": {},
   "source": [
    "1 \n",
    "3 2*2\n",
    "7 3*2\n",
    "13 4*2\n",
    "21"
   ],
   "outputs": []
  },
  {
   "cell_type": "code",
   "execution_count": 1,
   "metadata": {},
   "source": [
    "public long rowSumOddNumbers(long n)\n",
    "{\n",
    "    return (1-n+n*n)*n+(n-1)*n;\n",
    "}\n",
    "rowSumOddNumbers(42)"
   ],
   "outputs": [
    {
     "output_type": "execute_result",
     "data": {
      "text/html": "<div class=\"dni-plaintext\">74088</div>"
     },
     "execution_count": 1,
     "metadata": {}
    }
   ]
  },
  {
   "cell_type": "markdown",
   "metadata": {},
   "source": [
    "# Split Strings\n",
    "Complete the solution so that it splits the string into pairs of two characters. If the string contains an odd number of characters then it should replace the missing second character of the final pair with an underscore ('_').\n",
    "\n",
    "Examples:\n",
    "```csharp\n",
    "SplitString.Solution(\"abc\"); // should return [\"ab\", \"c_\"]\n",
    "SplitString.Solution(\"abcdef\"); // should\n",
    "```"
   ]
  },
  {
   "cell_type": "code",
   "execution_count": 1,
   "metadata": {},
   "source": [
    "public static string[] Solution(string str)\n",
    "{\n",
    "    var result = new List<string>();\n",
    "    for(int i = 0; i<str.Length; i+=2)\n",
    "    {\n",
    "        var item = \"\" + str[i].ToString() + (i+1 < str.Length ? str[i + 1].ToString() : \"_\");\n",
    "        result.Add(item);\n",
    "    }\n",
    "    return result.ToArray();\n",
    "}\n",
    "Solution(\"abcdef\")"
   ],
   "outputs": [
    {
     "output_type": "execute_result",
     "data": {
      "text/plain": "0\r\n"
     },
     "execution_count": 1,
     "metadata": {}
    },
    {
     "output_type": "execute_result",
     "data": {
      "text/plain": "2\r\n"
     },
     "execution_count": 1,
     "metadata": {}
    },
    {
     "output_type": "execute_result",
     "data": {
      "text/plain": "4\r\n"
     },
     "execution_count": 1,
     "metadata": {}
    },
    {
     "output_type": "execute_result",
     "data": {
      "text/html": "<table><thead><tr><th><i>index</i></th><th>value</th></tr></thead><tbody><tr><td>0</td><td><div class=\"dni-plaintext\">ab</div></td></tr><tr><td>1</td><td><div class=\"dni-plaintext\">cd</div></td></tr><tr><td>2</td><td><div class=\"dni-plaintext\">ef</div></td></tr></tbody></table>"
     },
     "execution_count": 1,
     "metadata": {}
    }
   ]
  },
  {
   "cell_type": "markdown",
   "metadata": {},
   "source": [
    "#Who likes it?\n",
    "You probably know the \"like\" system from Facebook and other pages. People can \"like\" blog posts, pictures or other items. We want to create the text that should be displayed next to such an item.\n",
    "\n",
    "Implement a function likes :: [String] -> String, which must take in input array, containing the names of people who like an item. It must return the display text as shown in the examples:\n",
    "```csharp\n",
    "Kata.Likes(new string[0]) => \"no one likes this\"\n",
    "Kata.Likes(new string[] {\"Peter\"}) => \"Peter likes this\"\n",
    "Kata.Likes(new string[] {\"Jacob\", \"Alex\"}) => \"Jacob and Alex like this\"\n",
    "Kata.Likes(new string[] {\"Max\", \"John\", \"Mark\"}) => \"Max, John and Mark like this\"\n",
    "Kata.Likes(new string[] {\"Alex\", \"Jacob\", \"Mark\", \"Max\"}) => \"Alex, Jacob and 2 others like this\"\n",
    "```\n",
    "For 4 or more names, the number in and 2 others simply increases."
   ]
  },
  {
   "cell_type": "code",
   "execution_count": 1,
   "metadata": {},
   "source": [
    "public static string Likes(string[] name)\n",
    "{\n",
    "    switch (name.Count())\n",
    "    {\n",
    "        case 0:\n",
    "            return \"no one likes this\";\n",
    "        case 1:\n",
    "            return $\"{name.First()} likes this\";\n",
    "        case 2:\n",
    "            return $\"{name.First()} and {name.Skip(1).First()} like this\";\n",
    "        case 3:\n",
    "            return $\"{name.First()}, {name.Skip(1).First()} and {name.Skip(2).First()} like this\";\n",
    "        default:\n",
    "            return $\"{name.First()}, {name.Skip(1).First()} and {(name.Count()-2)} others like this\";          \n",
    "    }\n",
    "}\n",
    "Likes(new string[] {\"Alex\", \"Jacob\", \"Mark\", \"Max\"})"
   ],
   "outputs": [
    {
     "output_type": "execute_result",
     "data": {
      "text/plain": "Alex, Jacob and 2 others likes this"
     },
     "execution_count": 1,
     "metadata": {}
    }
   ]
  },
  {
   "cell_type": "markdown",
   "metadata": {},
   "source": [
    "#IQ Test\n",
    "Bob is preparing to pass IQ test. The most frequent task in this test is to find out which one of the given numbers differs from the others. Bob observed that one number usually differs from the others in evenness. Help Bob — to check his answers, he needs a program that among the given numbers finds one that is different in evenness, and return a position of this number.\n",
    "\n",
    "! Keep in mind that your task is to help Bob solve a real IQ test, which means indexes of the elements start from 1 (not 0)\n",
    "\n",
    "##Examples :\n",
    "\n",
    "IQ.Test(\"2 4 7 8 10\") => 3 // Third number is odd, while the rest of the numbers are even\n",
    "\n",
    "IQ.Test(\"1 2 1 1\") => 2 // Second number is even, while the rest of the numbers are odd"
   ]
  },
  {
   "cell_type": "code",
   "execution_count": 1,
   "metadata": {},
   "source": [
    "public int Test(string numbers)\n",
    "{ \n",
    "    var list = numbers.Split(\" \")\n",
    "        .Select((o, i)=>new {id = i, value = int.Parse(o)})\n",
    "        .ToList();\n",
    "    var odd = list.Count(o=>o.value%2!=0);\n",
    "    var even = list.Count(o=>o.value%2==0);\n",
    "    return (odd > even \n",
    "        ? list.FirstOrDefault(o => o.value%2==0).id \n",
    "        : list.FirstOrDefault(o => o.value%2!=0).id)+1;\n",
    "}\n",
    "Test(\"2 4 7 8 10\")"
   ],
   "outputs": []
  },
  {
   "cell_type": "markdown",
   "metadata": {},
   "source": [
    "\n",
    "#Delete occurrences of an element if it occurs more than n times\n",
    "Enough is enough!\n",
    "Alice and Bob were on a holiday. Both of them took many pictures of the places they've been, and now they want to show Charlie their entire collection. However, Charlie doesn't like these sessions, since the motive usually repeats. He isn't fond of seeing the Eiffel tower 40 times. He tells them that he will only sit during the session if they show the same motive at most N times. Luckily, Alice and Bob are able to encode the motive as a number. Can you help them to remove numbers such that their list contains each number only up to N times, without changing the order?\n",
    "\n",
    "Task\n",
    "Given a list lst and a number N, create a new list that contains each number of lst at most N times without reordering. For example if N = 2, and the input is [1,2,3,1,2,1,2,3], you take [1,2,3,1,2], drop the next [1,2] since this would lead to 1 and 2 being in the result 3 times, and then take 3, which leads to [1,2,3,1,2,3].\n",
    "\n",
    "Example\n",
    "Kata.DeleteNth (new int[] {20,37,20,21}, 1) // return [20,37,21]\n",
    "Kata.DeleteNth (new int[] {1,1,3,3,7,2,2,2,2}, 3) // return [1, 1, 3, 3, 7, 2, 2, 2]"
   ]
  },
  {
   "cell_type": "code",
   "execution_count": 1,
   "metadata": {},
   "source": [
    "public int[] DeleteNth(int[] arr, int x) \n",
    "{\n",
    "    var dict = arr.Distinct().ToDictionary(o=>o, o=>0);\n",
    "    var result = new List<int>();\n",
    "    return arr.Select((o,i)=>new {id=i, value=o, count = ++dict[o]})\n",
    "        .Where(o=>o.count<=x)\n",
    "        .Select(o=>o.value)\n",
    "        .ToArray();\n",
    "}\n",
    "DeleteNth(new int[] {20, 37, 20, 21}, 1)"
   ],
   "outputs": [
    {
     "output_type": "execute_result",
     "data": {
      "text/html": "<table><thead><tr><th><i>index</i></th><th>value</th></tr></thead><tbody><tr><td>0</td><td><div class=\"dni-plaintext\">20</div></td></tr><tr><td>1</td><td><div class=\"dni-plaintext\">37</div></td></tr><tr><td>2</td><td><div class=\"dni-plaintext\">21</div></td></tr></tbody></table>"
     },
     "execution_count": 1,
     "metadata": {}
    }
   ]
  },
  {
   "cell_type": "markdown",
   "metadata": {},
   "source": [
    "# Is this a triangle?\n",
    "Implement a method that accepts 3 integer values a, b, c. The method should return true if a triangle can be built with the sides of given length and false in any other case.\n",
    "\n",
    "(In this case, all triangles must have surface greater than 0 to be accepted)."
   ]
  },
  {
   "cell_type": "code",
   "execution_count": 1,
   "metadata": {},
   "source": [
    "public bool IsTriangle(int a, int b, int c)\n",
    "{\n",
    "    var list = new List<int> {a, b, c};\n",
    "    var max = list.Max();\n",
    "    return list.Where(o=>o!=max).Sum() > max;\n",
    "}\n",
    "IsTriangle(5, 7, 10)"
   ],
   "outputs": [
    {
     "output_type": "execute_result",
     "data": {
      "text/html": "<div class=\"dni-plaintext\">True</div>"
     },
     "execution_count": 1,
     "metadata": {}
    }
   ]
  },
  {
   "cell_type": "markdown",
   "metadata": {},
   "source": [
    "# RGB To Hex Conversion\n",
    "The rgb function is incomplete. Complete it so that passing in RGB decimal values will result in a hexadecimal representation being returned. Valid decimal values for RGB are 0 - 255. Any values that fall out of that range must be rounded to the closest valid value.\n",
    "\n",
    "Note: Your answer should always be 6 characters long, the shorthand with 3 will not work here.\n",
    "\n",
    "The following are examples of expected output values:\n",
    "```\n",
    "Rgb(255, 255, 255) # returns FFFFFF\n",
    "Rgb(255, 255, 300) # returns FFFFFF\n",
    "Rgb(0,0,0) # returns 000000\n",
    "Rgb(148, 0, 211) # returns 9400D3\n",
    "```"
   ]
  },
  {
   "cell_type": "code",
   "execution_count": 1,
   "metadata": {},
   "source": [
    "public string Hex(int n) => Math.Min(Math.Max(n,0),255).ToString(\"X2\");\n",
    "public string Rgb(int r, int g, int b) \n",
    "{\n",
    "  return Math.Max(r,0).ToString(\"X2\")+Math.Max(g,0).ToString(\"X2\")+Math.Max(b,0).ToString(\"X2\");\n",
    "}\n",
    "Rgb(148,-20,211)"
   ],
   "outputs": [
    {
     "output_type": "execute_result",
     "data": {
      "text/plain": "9400D3"
     },
     "execution_count": 1,
     "metadata": {}
    }
   ]
  },
  {
   "cell_type": "code",
   "execution_count": 1,
   "metadata": {},
   "source": [
    "public void fizzBuzz(int n)\n",
    "{\n",
    "    foreach(var item in Enumerable.Range(1, n).Select(o=>o%15==0?\"FizzBuzz\":o%3==0?\"Fizz\":o%5==0?\"Buzz\":\"\"+o))\n",
    "    {\n",
    "        Console.WriteLine(item);\n",
    "    }\n",
    "}\n",
    "public class Team {\n",
    "    public Team(string teamName, int noOfPlayers){\n",
    "        this.teamName = teamName;\n",
    "        this.noOfPlayers = noOfPlayers;\n",
    "    }\n",
    "    public string teamName { get; set; }\n",
    "    public int noOfPlayers { get; set; }\n",
    "    public bool AddPlayer(int count){\n",
    "        if(noOfPlayers+count<0)\n",
    "        {\n",
    "            return false;\n",
    "        }\n",
    "        noOfPlayers += count;\n",
    "        return true;\n",
    "    }\n",
    "}\n",
    "\n",
    "public class Subteam: Team {\n",
    "    public Subteam(string teamName, int noOfPlayers) : base(teamName, noOfPlayers)\n",
    "    {            \n",
    "    }\n",
    "    public ChangeTeamName(string name)\n",
    "    {\n",
    "        teamName=name;    \n",
    "    }\n",
    "}\n",
    ""
   ],
   "outputs": [
    {
     "output_type": "error",
     "ename": "Error",
     "evalue": "(34,1): error CS1529: A using clause must precede all other elements defined in the namespace except extern alias declarations",
     "traceback": []
    }
   ]
  },
  {
   "cell_type": "code",
   "execution_count": 1,
   "metadata": {},
   "source": [
    "using System.Collections.Generic;\n",
    "public class NotesStore\n",
    "{\n",
    "    public NotesStore() \n",
    "    {\n",
    "        Map = new Dictionary<String, List<String>>();\n",
    "        Map.Add(\"completed\", new List<String>());\n",
    "        Map.Add(\"active\", new List<String>());\n",
    "        Map.Add(\"others\", new List<String>());\n",
    "    }\n",
    "    private Dictionary<String,  List<String>> Map { get; set; }\n",
    "    public void AddNote(String state, String name) {\n",
    "        if(string.IsNullOrEmpty(name))\n",
    "        {\n",
    "           throw new Exception(\"Name cannot be empty\");\n",
    "        }\n",
    "        if(Map.ContainsKey(name))\n",
    "        {\n",
    "           throw new Exception($\"Invalid state {state}\");\n",
    "        }\n",
    "    }\n",
    "    public List<String> GetNotes(String state) {\n",
    "        return null;\n",
    "    }\n",
    "} "
   ],
   "outputs": [
    {
     "output_type": "error",
     "ename": "Error",
     "evalue": "(8,13): error CS0246: The type or namespace name 'Dict<,>' could not be found (are you missing a using directive or an assembly reference?)\r\n(6,19): error CS0246: The type or namespace name 'Dict<,>' could not be found (are you missing a using directive or an assembly reference?)\r\n(19,25): error CS0161: 'NotesStore.GetNotes(string)': not all code paths return a value",
     "traceback": []
    }
   ]
  },
  {
   "cell_type": "code",
   "execution_count": 1,
   "metadata": {},
   "source": [
    ""
   ],
   "outputs": []
  }
 ],
 "metadata": {
  "kernelspec": {
   "display_name": ".NET (C#)",
   "language": "C#",
   "name": ".net-csharp"
  },
  "language_info": {
   "file_extension": ".cs",
   "mimetype": "text/x-csharp",
   "name": "C#",
   "pygments_lexer": "csharp",
   "version": "8.0"
  }
 },
 "nbformat": 4,
 "nbformat_minor": 4
}